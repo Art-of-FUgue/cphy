{
 "cells": [
  {
   "cell_type": "code",
   "execution_count": 1,
   "id": "b1564a26-3ef0-4329-ac97-2add94472651",
   "metadata": {},
   "outputs": [],
   "source": [
    "import numpy as np"
   ]
  },
  {
   "cell_type": "code",
   "execution_count": null,
   "id": "30436801-fbf7-4d12-9147-4f283e0a455c",
   "metadata": {},
   "outputs": [],
   "source": [
    "# Load the file 100000_primes.txt"
   ]
  },
  {
   "cell_type": "code",
   "execution_count": null,
   "id": "7c79bfbd-cae5-4d7f-9d19-d9bc37fe3528",
   "metadata": {},
   "outputs": [],
   "source": [
    "totients = {}\n",
    "def primesbelow(N):\n",
    "    # http://stackoverflow.com/questions/2068372/fastest-way-to-list-all-primes-below-n-in-python/3035188#3035188\n",
    "    #\"\"\" Input N>=6, Returns a list of primes, 2 <= p < N \"\"\"\n",
    "    correction = N % 6 > 1\n",
    "    N = {0:N, 1:N-1, 2:N+4, 3:N+3, 4:N+2, 5:N+1}[N%6]\n",
    "    sieve = [True] * (N // 3)\n",
    "    sieve[0] = False\n",
    "    for i in range(int(N ** .5) // 3 + 1):\n",
    "        if sieve[i]:\n",
    "            k = (3 * i + 1) | 1\n",
    "            sieve[k*k // 3::2*k] = [False] * ((N//6 - (k*k)//6 - 1)//k + 1)\n",
    "            sieve[(k*k + 4*k - 2*k*(i%2)) // 3::2*k] = [False] * ((N // 6 - (k*k + 4*k - 2*k*(i%2))//6 - 1) // k + 1)\n",
    "    return [2, 3] + [(3 * i + 1) | 1 for i in range(1, N//3 - correction) if sieve[i]]"
   ]
  },
  {
   "cell_type": "code",
   "execution_count": null,
   "id": "e8ab3b3a-102f-4bf9-871a-9744de8445b3",
   "metadata": {},
   "outputs": [],
   "source": [
    "prime_list = \n",
    "\n",
    "prime_factorization "
   ]
  }
 ],
 "metadata": {
  "kernelspec": {
   "display_name": "Python 3 (ipykernel)",
   "language": "python",
   "name": "python3"
  },
  "language_info": {
   "codemirror_mode": {
    "name": "ipython",
    "version": 3
   },
   "file_extension": ".py",
   "mimetype": "text/x-python",
   "name": "python",
   "nbconvert_exporter": "python",
   "pygments_lexer": "ipython3",
   "version": "3.8.11"
  }
 },
 "nbformat": 4,
 "nbformat_minor": 5
}
