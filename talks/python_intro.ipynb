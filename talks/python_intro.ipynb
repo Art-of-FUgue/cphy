{
 "cells": [
  {
   "cell_type": "markdown",
   "id": "022cc420",
   "metadata": {},
   "source": [
    "## Imports and preamble\n",
    "\n",
    "These are external libraries, including your own code stored in separate .py files, that you want to import in order to run the notebook. Since our notebook environment is running in Python, we don't need to import the language itself.\n",
    "\n",
    " However, it's worth checking that you are using the right version of Python (usually Python 3)\n",
    "\n",
    " For larger projects, you will want to use separate virtual environments for different projects. It's a good idea to double check your environment"
   ]
  },
  {
   "cell_type": "code",
   "execution_count": 7,
   "id": "1dbc7a28",
   "metadata": {},
   "outputs": [
    {
     "name": "stdout",
     "output_type": "stream",
     "text": [
      "3.8.11 (default, Aug  6 2021, 08:56:27) \n",
      "[Clang 10.0.0 ]\n"
     ]
    }
   ],
   "source": [
    "# pre-installed library containing a grab bag of system functions\n",
    "import sys\n",
    "print(sys.version)\n",
    "\n",
    "# Import some local code, which I'll use behind the scenes\n",
    "from .resources import helper_functions\n",
    "\n",
    "# Wipe all outputs from this notebook\n",
    "from IPython.display import clear_output\n",
    "clear_output(True)"
   ]
  },
  {
   "cell_type": "markdown",
   "id": "0bb2eb1a",
   "metadata": {},
   "source": [
    "# Why Python?\n",
    "\n",
    "+ Interpreted language\n",
    "+ Extensible, plenty of external models available in other domains\n",
    "\n",
    "\n",
    "Other good options\n",
    "\n",
    "+ C/C++\n",
    "\n",
    "Keeping an eye on\n",
    "\n",
    "+ Julia\n",
    "+ Rust\n",
    "+ Haskell"
   ]
  },
  {
   "cell_type": "code",
   "execution_count": null,
   "id": "f8164e2e",
   "metadata": {},
   "outputs": [],
   "source": []
  },
  {
   "cell_type": "code",
   "execution_count": null,
   "id": "9817dd95",
   "metadata": {},
   "outputs": [],
   "source": []
  },
  {
   "cell_type": "markdown",
   "id": "08101430",
   "metadata": {},
   "source": [
    "# Python basics"
   ]
  },
  {
   "cell_type": "code",
   "execution_count": 15,
   "id": "4737eb46",
   "metadata": {},
   "outputs": [
    {
     "name": "stdout",
     "output_type": "stream",
     "text": [
      "1 2\n",
      "2 1\n",
      "1 2\n"
     ]
    }
   ],
   "source": [
    "## Assigning variables, pass by value\n",
    "\n",
    "a = 1\n",
    "b = 2\n",
    "\n",
    "print(a, b)\n",
    "\n",
    "temp = a\n",
    "a = b\n",
    "b = temp\n",
    "\n",
    "print(a, b)\n",
    "\n",
    "a, b = b, a\n",
    "\n",
    "print(a, b)"
   ]
  },
  {
   "cell_type": "code",
   "execution_count": 21,
   "id": "c0ba6358",
   "metadata": {},
   "outputs": [
    {
     "data": {
      "text/plain": [
       "[1, 'a']"
      ]
     },
     "execution_count": 21,
     "metadata": {},
     "output_type": "execute_result"
    }
   ],
   "source": [
    "[1, \"a\"]"
   ]
  },
  {
   "cell_type": "markdown",
   "id": "fcb5f9f9",
   "metadata": {},
   "source": [
    "# Built-in data structures\n",
    "\n",
    "+ Given information: detector counts, velocities, temperatures, how do we store it\n",
    "+ Because Python is object-oriented, we will eventually build more esoteric objects by composing built-in data structures\n",
    "\n"
   ]
  },
  {
   "cell_type": "code",
   "execution_count": null,
   "id": "765d4af3",
   "metadata": {},
   "outputs": [],
   "source": []
  },
  {
   "cell_type": "markdown",
   "id": "53de90ca",
   "metadata": {},
   "source": [
    "### Lists\n",
    "\n",
    "+ Ordered sets of objects\n",
    "+ Can mix different types\n",
    "+ Can contain duplicates\n",
    "+ Similar to stacks in other languages"
   ]
  },
  {
   "cell_type": "markdown",
   "id": "99237406",
   "metadata": {},
   "source": []
  },
  {
   "cell_type": "code",
   "execution_count": 30,
   "id": "43899f17",
   "metadata": {},
   "outputs": [
    {
     "name": "stdout",
     "output_type": "stream",
     "text": [
      "[0, 1, 2, 3, 4, 5, 6, 7, 8, 9]\n",
      "10\n",
      "[0, 1, 2, 3, 4, 5, 6, 7, 8, 9, 11]\n",
      "[0, 1, 2, 3, 4, 5, 6, 7, 8, 9, 11]\n",
      "[0, 1, 2, 3, 4, 5, 6, 8.5, 7, 8, 9, 11]\n",
      "[0, 1, 2, 3, 4, 5, 6, 7, 8, 8.5, 9, 11]\n",
      "[0, 1, 2, 3, 4, 5, 6, 7, 8.5, 9, 11]\n",
      "11\n",
      "[0, 1, 2, 3, 4, 5, 6, 7, 8.5, 9]\n"
     ]
    }
   ],
   "source": [
    "\n",
    "\n",
    "xs = list(range(10)) # casts to list\n",
    "print(xs)\n",
    "\n",
    "## Find length\n",
    "print(len(xs))\n",
    "\n",
    "## Add element to back\n",
    "xs.append(11)\n",
    "print(xs)\n",
    "\n",
    "## Count number of occurrences of a value\n",
    "xs.count(6)\n",
    "print(xs)\n",
    "\n",
    "xs.insert(7, 8.5)\n",
    "print(xs)\n",
    "\n",
    "xs.sort() # alternative: sorted(xs) returns a sorted copy\n",
    "print(xs)\n",
    "\n",
    "# Remove element based on value\n",
    "xs.remove(8)\n",
    "print(xs)\n",
    "\n",
    "\n",
    "## Remove element from back and return it\n",
    "## Similar to a stack in other languages\n",
    "print(xs.pop()) \n",
    "print(xs)\n",
    "\n"
   ]
  },
  {
   "cell_type": "code",
   "execution_count": 29,
   "id": "9a0e6b3d",
   "metadata": {},
   "outputs": [],
   "source": [
    "## Slice notation"
   ]
  },
  {
   "cell_type": "code",
   "execution_count": null,
   "id": "07e14370",
   "metadata": {},
   "outputs": [],
   "source": [
    "# List comprehension\n",
    "\n",
    "# Map\n",
    "\n",
    "# filter\n",
    "\n"
   ]
  },
  {
   "cell_type": "code",
   "execution_count": 18,
   "id": "079ea150",
   "metadata": {},
   "outputs": [
    {
     "name": "stdout",
     "output_type": "stream",
     "text": [
      "[1, 2, 3] 1\n",
      "[9, 2, 3] 1\n",
      "[9, 2, 3] 9\n"
     ]
    }
   ],
   "source": [
    "# Pass by value\n",
    "a = [1, 2, 3]\n",
    "b = a[0]\n",
    "\n",
    "print(a, b)\n",
    "\n",
    "a[0] = 9\n",
    "\n",
    "print(a, b)\n",
    "\n",
    "b = 9\n",
    "\n",
    "print(a, b)"
   ]
  },
  {
   "cell_type": "code",
   "execution_count": 20,
   "id": "cc5ff3ae",
   "metadata": {},
   "outputs": [
    {
     "name": "stdout",
     "output_type": "stream",
     "text": [
      "[1, 2, 3] [1, 2, 3]\n",
      "[9, 2, 3] [9, 2, 3]\n"
     ]
    }
   ],
   "source": [
    "# Pass by reference\n",
    "a = [1, 2, 3]\n",
    "b = a\n",
    "print(a, b)\n",
    "\n",
    "a[0] = 9\n",
    "print(a, b)"
   ]
  },
  {
   "cell_type": "code",
   "execution_count": null,
   "id": "d37083ad",
   "metadata": {},
   "outputs": [],
   "source": [
    "a = SomeWeirdObject()\n",
    "a.some_random_property = \"some value\"\n",
    "\n",
    "b = a\n",
    "\n"
   ]
  },
  {
   "cell_type": "markdown",
   "id": "67a8c4a6",
   "metadata": {},
   "source": [
    "Abstract data types (how Python built-ins operate behind the scenes)\n",
    "\n",
    "+ Hash tables\n",
    "+ Linked Lists\n",
    "+ Stacks\n",
    "+ Queues\n",
    "+ Heaps / Priority Queues\n",
    "+ Trees"
   ]
  },
  {
   "cell_type": "markdown",
   "id": "96b1efcf",
   "metadata": {},
   "source": [
    "# Printing and strings"
   ]
  },
  {
   "cell_type": "code",
   "execution_count": null,
   "id": "1c00ff77",
   "metadata": {},
   "outputs": [],
   "source": [
    "# print statement\n",
    "\n",
    "print(\"\")\n",
    "\n",
    "\n",
    "## During a long computation, you can force Python to print out the progress of the computation\n",
    "print(\"Hello World\", flush=True)"
   ]
  },
  {
   "cell_type": "code",
   "execution_count": null,
   "id": "76b74809",
   "metadata": {},
   "outputs": [],
   "source": []
  },
  {
   "cell_type": "code",
   "execution_count": null,
   "id": "a6502717",
   "metadata": {},
   "outputs": [],
   "source": []
  },
  {
   "cell_type": "markdown",
   "id": "15729e45",
   "metadata": {},
   "source": [
    "# Functions\n",
    "\n",
    "+ keyword arguments\n",
    "+ local variable scope\n",
    "+ globals\n",
    "+ docstring"
   ]
  },
  {
   "cell_type": "code",
   "execution_count": null,
   "id": "40a31597",
   "metadata": {},
   "outputs": [],
   "source": [
    "## Can pass functions as arguments\n",
    "\n",
    "def kinematic_drag_linear(a, gamma=1.0):\n",
    "    \"\"\"A linear drag function\"\"\"\n",
    "    return gamma * a\n",
    "\n",
    "def kinematic_drag_quadratic(a, gamma=1.0):\n",
    "    \"\"\"A quadratic drag function\"\"\"\n",
    "    return gamma * a**2\n",
    "\n",
    "def simulate_drag(a, drag_function):\n",
    "    for i in range(100):\n",
    "        kinematic_drag_linear(a, gamma)\n",
    "\n",
    "\n"
   ]
  },
  {
   "cell_type": "code",
   "execution_count": null,
   "metadata": {},
   "outputs": [],
   "source": [
    "## Lambda function shorthand\n",
    "linear_drag = lambda x, gamma: gamma * x\n",
    "quadratic_drag = lambda x, gamma: gamma * x\n",
    "\n"
   ]
  },
  {
   "cell_type": "code",
   "execution_count": null,
   "id": "84b9c9b6",
   "metadata": {},
   "outputs": [],
   "source": [
    "# Can pass functions as arguments\n",
    "\n",
    "\n",
    "def mean(mylist):\n",
    "    \"\"\"Return the mean of a list of numbers\"\"\"\n",
    "    return sum(mylist) / len(mylist)\n",
    "\n",
    "def median(mylist):\n",
    "    \"\"\"Return the median of a list of numbers\"\"\"\n",
    "    mylist.sort() # get set of numbers in order\n",
    "\n",
    "    # even number of elements\n",
    "    if len(mylist) % 2 == 0:\n",
    "        return (mylist[len(mylist) // 2] + mylist[len(mylist) // 2 - 1]) / 2\n",
    "\n",
    "    # odd number of elements\n",
    "    else:\n",
    "        return mylist[len(mylist) // 2]\n",
    "\n",
    "\n"
   ]
  },
  {
   "cell_type": "markdown",
   "id": "caaae9ce",
   "metadata": {},
   "source": [
    "# Loops and control flow\n",
    "\n",
    "\n",
    "\n",
    "$$\n",
    "\\mathcal{L} ={\\tfrac {1}{2}}m\\left(v_{1}^{2}+v_{2}^{2}\\right)+{\\tfrac {1}{2}}I\\left({{\\dot {\\theta }}_{1}}^{2}+{{\\dot {\\theta }}_{2}}^{2}\\right)-mg\\left(y_{1}+y_{2}\\right)\n",
    "$$"
   ]
  },
  {
   "cell_type": "code",
   "execution_count": null,
   "id": "92b4d32a",
   "metadata": {},
   "outputs": [],
   "source": []
  },
  {
   "cell_type": "code",
   "execution_count": null,
   "id": "31bad0f7",
   "metadata": {},
   "outputs": [],
   "source": [
    "g = 9.82 # global variable\n",
    "\n",
    "class DifferentialEquation:\n",
    "\n",
    "    def __init__(self):\n",
    "        pass\n",
    "\n",
    "    def step(t, y):\n",
    "        return y\n",
    "\n",
    "    def integrate(self, t0, y0, t1):\n",
    "        \"\"\"Simulate a differential Equation using Euler's method\"\"\"\n",
    "\n",
    "class DoublePendulum:\n",
    "\n",
    "    def __init__(self):\n",
    "        self.g = 9.82\n",
    "    \n",
    "    @staticmethod\n",
    "    def cartesian_to_polar(coords):\n",
    "        \"\"\"Convert an N, D list of Cartesian coordinats to polar coordinates\"\"\"\n",
    "\n"
   ]
  },
  {
   "cell_type": "code",
   "execution_count": null,
   "id": "3125eca5",
   "metadata": {},
   "outputs": [],
   "source": []
  },
  {
   "cell_type": "markdown",
   "id": "c514570a",
   "metadata": {},
   "source": [
    "# External libraries\n",
    "\n",
    "+ The best part of the Python ecosystem\n",
    "+ Common libraries you might use in the sciences include\n",
    "+ + matplotlib (plotting)\n",
    "+ + numpy (linear algebra; lots of MATLAB functions)\n",
    "+ + scipy (common scientific algorithms)\n",
    "+ + scikit-learn (machine learning)\n",
    "+ + numba (just-in-time compilation of numpy-based code)\n",
    "+ + pandas (large dataset organization; lots of R functionality)\n",
    "+ + statsmodels (statistics; lots of R functionality)\n",
    "+ + seaborn (plotting; alternative to matplotlib with API similar to R's ggplot)\n",
    "+ + PyTorch (deep learning)\n",
    "+ + JAX (deep learning)\n",
    "\n",
    "\n",
    "Typical usage (in terminal): install \n",
    "\n",
    "    conda activate myenvironment\n",
    "    conda install pandas\n",
    "\n",
    "Then either launch launch JupyterLab from terminal, or open VSCode app and select the appropriate environment in the upper-right hand corner\n"
   ]
  },
  {
   "cell_type": "code",
   "execution_count": null,
   "id": "38cb78b0",
   "metadata": {},
   "outputs": [],
   "source": [
    "import matplotlib.pyplot as plt # Plotting library\n",
    "import numpy as np # Linear algebra library\n",
    "\n"
   ]
  },
  {
   "cell_type": "code",
   "execution_count": null,
   "id": "5b665d63",
   "metadata": {},
   "outputs": [],
   "source": []
  },
  {
   "cell_type": "code",
   "execution_count": null,
   "id": "c802a487",
   "metadata": {},
   "outputs": [],
   "source": []
  },
  {
   "cell_type": "markdown",
   "id": "9e3fdb28",
   "metadata": {},
   "source": [
    "# Objects\n",
    "\n",
    "+ Sometimes the built-in data structures aren't sufficiently expressive for our problem\n",
    "\n"
   ]
  },
  {
   "cell_type": "code",
   "execution_count": null,
   "id": "ba5cf697",
   "metadata": {},
   "outputs": [],
   "source": []
  },
  {
   "cell_type": "code",
   "execution_count": null,
   "id": "9a4691dc",
   "metadata": {},
   "outputs": [],
   "source": [
    "class DifferentialEquation:\n",
    "\n",
    "    def __init__(self):\n",
    "\n",
    "\n",
    "    def "
   ]
  },
  {
   "cell_type": "code",
   "execution_count": null,
   "id": "599a2432",
   "metadata": {},
   "outputs": [],
   "source": [
    "class RocketEquation"
   ]
  },
  {
   "cell_type": "markdown",
   "id": "022fa543",
   "metadata": {},
   "source": [
    "# Multiple inheritance\n",
    "\n"
   ]
  },
  {
   "cell_type": "code",
   "execution_count": null,
   "id": "8f1429d5",
   "metadata": {},
   "outputs": [],
   "source": [
    "class "
   ]
  },
  {
   "cell_type": "code",
   "execution_count": null,
   "id": "fb4a3422",
   "metadata": {},
   "outputs": [],
   "source": []
  },
  {
   "cell_type": "code",
   "execution_count": null,
   "id": "65be855c",
   "metadata": {},
   "outputs": [],
   "source": []
  },
  {
   "cell_type": "code",
   "execution_count": null,
   "id": "ed01c461",
   "metadata": {},
   "outputs": [],
   "source": []
  },
  {
   "cell_type": "code",
   "execution_count": null,
   "id": "32516871",
   "metadata": {},
   "outputs": [],
   "source": []
  }
 ],
 "metadata": {
  "kernelspec": {
   "display_name": "Python 3.8.11 ('phys381')",
   "language": "python",
   "name": "python3"
  },
  "language_info": {
   "codemirror_mode": {
    "name": "ipython",
    "version": 3
   },
   "file_extension": ".py",
   "mimetype": "text/x-python",
   "name": "python",
   "nbconvert_exporter": "python",
   "pygments_lexer": "ipython3",
   "version": "3.8.11"
  },
  "vscode": {
   "interpreter": {
    "hash": "dd2d507358018fbaed212338faa319de6206d9a642fdbeff386a22163c5069f1"
   }
  }
 },
 "nbformat": 4,
 "nbformat_minor": 5
}
