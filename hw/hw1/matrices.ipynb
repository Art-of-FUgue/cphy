{
 "cells": [
  {
   "cell_type": "code",
   "execution_count": null,
   "id": "9ee03d2d-906b-4dee-aee1-b48f2a17a887",
   "metadata": {},
   "outputs": [],
   "source": [
    "import numpy as np\n",
    "\n",
    "\n",
    "\n",
    "import matplotlib.pyplot as plt\n",
    "%matplotlib inline"
   ]
  },
  {
   "cell_type": "markdown",
   "id": "ad7d6494-034c-4096-a938-314cf463b528",
   "metadata": {},
   "source": [
    "## Linear Dynamical systems and numerical matrix calculations"
   ]
  },
  {
   "cell_type": "markdown",
   "id": "929aa97a-fa52-4629-b050-ab5479da6701",
   "metadata": {},
   "source": [
    "## The Power Method\n",
    "\n",
    "$$\n",
    "\\let\\vaccent=\\v % rename builtin command \\v{} to \\vaccent{}\n",
    "\\renewcommand{\\v}[1]{{\\mathbf{#1}}} % for vectors\n",
    "\\newcommand{\\gv}[1]{{\\mbox{\\boldmath$ #1 $}}} \n",
    "\\newcommand{\\uv}[1]{{\\mathbf{\\hat{#1}}}} % for unit vector\n",
    "\\newcommand{\\abs}[1]{\\left| #1 \\right|} % for absolute value\n",
    "\\newcommand{\\avg}[1]{\\left< #1 \\right>} % for average\n",
    "\\let\\underdot=\\d % rename builtin command \\d{} to \\underdot{}\n",
    "\\renewcommand{\\d}[2]{\\frac{d #1}{d #2}} % for derivatives\n",
    "\\newcommand{\\dd}[2]{\\frac{d^2 #1}{d #2^2}} % for double derivatives\n",
    "\\newcommand{\\pd}[2]{\\frac{\\partial #1}{\\partial #2}} \n",
    "\\renewcommand\\eqref[1]{Eq.\\;\\ref{#1}} % new version of eqref\n",
    "$$\n",
    "\n",
    "<!-- $$\n",
    "\\uv{v} = \\dfrac{\\v{v}}{||\\v{v}||}\n",
    "$$\n",
    " -->\n",
    " \n",
    "Suppose we seek to find the leading eigenvector of a matrix $A$. If the matrix $A$ is non-singular, then it has a full-rank eigenbasis $V \\in \\mathbb{R}^{n \\times n}$, spanned by the $N$ independent, orthonormal eigenvectors $\\uv{v}_i$ such that $\\uv{v}_i \\cdot \\uv{v}_j = \\delta_{ij}$\n",
    "\n",
    "$$\n",
    "\\v{w} = w_1 \\uv{v}_1 + w_2 \\uv{v}_2 + ... + w_N \\uv{v}_N\n",
    "$$\n",
    "\n",
    "$$\n",
    "A \\v{w} = \\lambda_1 w_1 \\uv{v}_i + \\lambda_2 w_2 \\uv{v}_2 + ... + \\lambda_N w_N \\uv{v}_N\n",
    "$$\n",
    "\n",
    "We next renormalize the output vector,\n",
    "\n",
    "$$\n",
    "A \\v{w} \\cdot  A \\v{w} = \\lambda_1^2 w_1^2 + \\lambda_1^2 w_1^2 + ... + \\lambda_1^N w_1^N\n",
    "$$\n",
    "for simplicity, we define $C \\equiv \\sqrt{\\lambda_1^2 w_1^2 + \\lambda_1^2 w_1^2 + ... + \\lambda_1^N w_1^N}$\n",
    "\n",
    "$$\n",
    "A \\cdot (A \\cdot \\v{w})/C = (1/C) (\\lambda_1^2 w_1 \\uv{v}_i + \\lambda_2^2 w_2 \\uv{v}_2 + ... + \\lambda_N^2 w_N \\uv{v}_N)\n",
    "$$\n",
    "\n",
    "$$\n",
    "||A \\cdot (A \\cdot \\v{w})/C||^2 = (1/C^2) (\\lambda_1^4 w_1^2 \\uv{v}_i + \\lambda_2^4 w_2 \\uv{v}_2 + ... + \\lambda_N^4 w_N \\uv{v}_N)\n",
    "$$\n",
    "\n",
    "Now we consider $A^M$ as $M \\rightarrow \\infty$. Without loss of generality, we assume that the $N$ eigenvalues of $A$ are ordered by their magnitude, $\\abs{\\lambda_1} > \\abs{\\lambda_2} > ... > \\abs{\\lambda_N}$. The series above diverges geometrically as we iterate repeatedly, such that\n",
    "\n",
    "$$\n",
    "A^M \\v{w} \\approx \\dfrac{\\lambda_1^M w_1 + ...}{\\sqrt{\\lambda_1^{2M} w_1^2 + ...}} \\uv{v}_1 = \\uv{v_1}\n",
    "$$\n",
    "\n",
    "From this calculation, we derive the power method for computing the leading eigenvector of a non-singular matrix $A$:\n",
    "\n",
    "1. Pick a random vector \n",
    "2. Compute the matrix product of our matrix $A$ with the random vector\n",
    "3. Re-normalize the resulting vector, producing a new unit vector\n",
    "4. Compute the matrix product of our original matrix $A$ with this new vector\n",
    "5. Repeat steps 3 and 4 until the elements of the output vector fluctuate less than a pre-specified tolerance\n",
    "6. Multiply the resulting vector by the original matrix $A$. The length of the resulting vector gives the magnitude of the leading eigenvalue\n",
    "\n"
   ]
  },
  {
   "cell_type": "code",
   "execution_count": 28,
   "id": "24c2a1e0-f738-46bd-99b2-b80b2444a187",
   "metadata": {},
   "outputs": [
    {
     "name": "stdout",
     "output_type": "stream",
     "text": [
      "[ 1.49021420e+01+0.j          1.95240395e+00+0.j\n",
      " -1.64410807e+00+0.43828645j -1.64410807e+00-0.43828645j\n",
      " -1.28089038e+00+0.j         -3.01946024e-01+1.37755875j\n",
      " -3.01946024e-01-1.37755875j -8.13762393e-01+1.00520489j\n",
      " -8.13762393e-01-1.00520489j  1.47232312e+00+0.j\n",
      " -8.18123695e-01+0.41867789j -8.18123695e-01-0.41867789j\n",
      "  6.12561216e-01+0.98332567j  6.12561216e-01-0.98332567j\n",
      " -3.59717441e-01+0.78538278j -3.59717441e-01-0.78538278j\n",
      " -2.87174113e-02+0.87297508j -2.87174113e-02-0.87297508j\n",
      "  9.85229153e-01+0.66778995j  9.85229153e-01-0.66778995j\n",
      "  1.15927253e+00+0.j          9.57374867e-01+0.33738469j\n",
      "  9.57374867e-01-0.33738469j  4.07751870e-01+0.47552081j\n",
      "  4.07751870e-01-0.47552081j  3.43508418e-01+0.j\n",
      "  2.39984631e-01+0.25369854j  2.39984631e-01-0.25369854j\n",
      " -2.28600475e-01+0.j          2.56758595e-04+0.j        ]\n",
      "14.90214199765793\n"
     ]
    }
   ],
   "source": [
    "\n",
    "np.random.seed(0)\n",
    "a_mat = np.random.random((30, 30))\n",
    "vec_trial = np.random.random(30)\n",
    "\n",
    "def normalize_vec(a):\n",
    "    return a / np.linalg.norm(a)\n",
    "\n",
    "curr = normalize_vec(vec_trial)\n",
    "all_norms = list()\n",
    "for i in range(100):\n",
    "    #print(i)\n",
    "    vec_transformed = a_mat.dot(curr)\n",
    "    norm_transformed = np.linalg.norm(vec_transformed)\n",
    "    curr = vec_transformed / norm_transformed\n",
    "    all_norms.append(norm_transformed)\n",
    "    \n",
    "print(np.linalg.eig(a_mat)[0])\n",
    "print(all_norms[-1])"
   ]
  },
  {
   "cell_type": "code",
   "execution_count": 5,
   "id": "d555fdbc-413a-45d1-af62-a66499c0a952",
   "metadata": {},
   "outputs": [
    {
     "name": "stderr",
     "output_type": "stream",
     "text": [
      "...\n",
      "----------------------------------------------------------------------\n",
      "Ran 3 tests in 0.001s\n",
      "\n",
      "OK\n"
     ]
    },
    {
     "data": {
      "text/plain": [
       "<unittest.main.TestProgram at 0x7f8bd888a2e0>"
      ]
     },
     "execution_count": 5,
     "metadata": {},
     "output_type": "execute_result"
    }
   ],
   "source": [
    "class SpectralDecompositionPowerMethod:\n",
    "    \"\"\"\n",
    "    Store the output vector in the object attribute self.components_ and the \n",
    "    associated eigenvalue in the object attribute self.singular_values_ \n",
    "    \n",
    "    Why these attribute names? We are using the convention used by the implementation\n",
    "    of PCA in the popular scikit-learn machine learning library:\n",
    "    https://scikit-learn.org/stable/modules/generated/sklearn.decomposition.PCA.html\n",
    "    \"\"\"\n",
    "    def __init__(self, max_iter=100, tolerance=0.01, random_state=None):\n",
    "        self.max_iter = max_iter\n",
    "        self.tolerance = tolerance\n",
    "        self.random_state = random_state\n",
    "        self.singular_values_ = None\n",
    "        self.components_ = None\n",
    "        \n",
    "        self.stored_eigenvalues = []\n",
    "        \n",
    "    def plot_fitting(self):\n",
    "        \"\"\"\n",
    "        Plot the stored intermediate results of the power method fitting\n",
    "        \"\"\"\n",
    "        plt.plot(self.stored_eigenvalues)\n",
    "    \n",
    "    def fit(self, X):\n",
    "        n = X.shape[0]\n",
    "        np.random.seed(self.random_state)\n",
    "        curr = np.random.random(n)\n",
    "        \n",
    "        if np.mean(np.sqrt((curr - prev)**2 / prev**2)) < tolerance:\n",
    "            break\n",
    "            \n",
    "        \n",
    "        \n",
    "        \n",
    "    \n",
    "    \n",
    "\n"
   ]
  },
  {
   "cell_type": "code",
   "execution_count": null,
   "id": "20fc18bc-073d-4702-abf7-a7d6752a4e37",
   "metadata": {},
   "outputs": [],
   "source": [
    "%%bash\n",
    "\n",
    "python -m unittest\n"
   ]
  },
  {
   "cell_type": "code",
   "execution_count": 21,
   "id": "19ffca29-df79-4e63-a936-a65d58aa72e8",
   "metadata": {},
   "outputs": [],
   "source": [
    "import unittest"
   ]
  },
  {
   "cell_type": "markdown",
   "id": "1c2aa230-398c-4543-a438-2d6d57d8832f",
   "metadata": {},
   "source": [
    "How does the power method scale with the number of iterations"
   ]
  },
  {
   "cell_type": "code",
   "execution_count": 28,
   "id": "acafd8bb-5d10-42ae-bce7-20c781b306aa",
   "metadata": {},
   "outputs": [
    {
     "data": {
      "text/plain": [
       "unittest.case.TestCase"
      ]
     },
     "execution_count": 28,
     "metadata": {},
     "output_type": "execute_result"
    }
   ],
   "source": [
    "unittest.TestCase"
   ]
  },
  {
   "cell_type": "markdown",
   "id": "6107e54d-5586-4471-a615-59daf2e996e1",
   "metadata": {},
   "source": [
    "# Run Tests to see that everything is working"
   ]
  },
  {
   "cell_type": "code",
   "execution_count": 24,
   "id": "c45efa15-2e25-43dc-99b2-4ab56166acbc",
   "metadata": {},
   "outputs": [
    {
     "name": "stderr",
     "output_type": "stream",
     "text": [
      "..."
     ]
    },
    {
     "name": "stdout",
     "output_type": "stream",
     "text": [
      "/Users/williamgilpin/Documents/courses/phys381c_fall2022/hw1\n",
      "None\n",
      "21:32:53\n"
     ]
    },
    {
     "name": "stderr",
     "output_type": "stream",
     "text": [
      "\n",
      "----------------------------------------------------------------------\n",
      "Ran 3 tests in 0.001s\n",
      "\n",
      "OK\n"
     ]
    },
    {
     "data": {
      "text/plain": [
       "<unittest.main.TestProgram at 0x7f8bd8bfa100>"
      ]
     },
     "execution_count": 24,
     "metadata": {},
     "output_type": "execute_result"
    }
   ],
   "source": [
    "import sys, os, unittest\n",
    "from datetime import datetime\n",
    "\n",
    "class TestPowerMethod(unittest.TestCase):\n",
    "\n",
    "    def test_initialization(self):\n",
    "        method = PowerMethod(max_iter=13)\n",
    "        assert method.max_iter == 13\n",
    "\n",
    "    def test_fitting(self):\n",
    "        assert True\n",
    "\n",
    "    def test_eigspec(self):\n",
    "        np.random.random((5,5))\n",
    "\n",
    "\n",
    "print(print(os.getcwd()))\n",
    "print(datetime.now().strftime(\"%H:%M:%S\"))\n",
    "\n",
    "unittest.main(argv=[''], exit=False)\n",
    "\n"
   ]
  },
  {
   "cell_type": "code",
   "execution_count": null,
   "id": "5f8c3957-096f-49a3-a127-1a040723c598",
   "metadata": {},
   "outputs": [],
   "source": []
  },
  {
   "cell_type": "code",
   "execution_count": null,
   "id": "aa027f6a-5ecd-4a3f-9a4b-7d5ae7cc0345",
   "metadata": {},
   "outputs": [],
   "source": []
  },
  {
   "cell_type": "code",
   "execution_count": null,
   "id": "169637b0-6a6e-4e14-852a-d6115f698300",
   "metadata": {},
   "outputs": [],
   "source": []
  }
 ],
 "metadata": {
  "kernelspec": {
   "display_name": "Python 3 (ipykernel)",
   "language": "python",
   "name": "python3"
  },
  "language_info": {
   "codemirror_mode": {
    "name": "ipython",
    "version": 3
   },
   "file_extension": ".py",
   "mimetype": "text/x-python",
   "name": "python",
   "nbconvert_exporter": "python",
   "pygments_lexer": "ipython3",
   "version": "3.8.11"
  }
 },
 "nbformat": 4,
 "nbformat_minor": 5
}
