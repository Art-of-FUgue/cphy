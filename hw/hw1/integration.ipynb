{
 "cells": [
  {
   "cell_type": "code",
   "execution_count": 7,
   "id": "9ee03d2d-906b-4dee-aee1-b48f2a17a887",
   "metadata": {},
   "outputs": [],
   "source": [
    "import numpy as np\n",
    "\n",
    "\n",
    "class BaseIntegrator:\n",
    "    \n",
    "    def __init__(self, order=1):\n",
    "        self.order = order\n",
    "        \n",
    "\n",
    "class Euler(BaseIntegrator):\n",
    "    \"\"\"\n",
    "    \n",
    "    \n",
    "    Note:\n",
    "    super() calls the constructor of BaseIntegrator\n",
    "    kwargs get passed on to the constructor of BaseIntegrator\n",
    "    \"\"\"\n",
    "    \n",
    "    def __init__(self, **kwargs):\n",
    "        super().__init__(**kwargs)\n",
    "        \n",
    "    \n",
    "\n",
    "eint = Euler(order=1)\n",
    "        "
   ]
  },
  {
   "cell_type": "code",
   "execution_count": 8,
   "id": "b5606855-6640-47f5-9798-d397960266ea",
   "metadata": {},
   "outputs": [
    {
     "data": {
      "text/plain": [
       "2"
      ]
     },
     "execution_count": 8,
     "metadata": {},
     "output_type": "execute_result"
    }
   ],
   "source": [
    "eint.order"
   ]
  },
  {
   "cell_type": "code",
   "execution_count": null,
   "id": "b6b62240-8bce-4de7-b5a8-ec6515df3d85",
   "metadata": {},
   "outputs": [],
   "source": []
  },
  {
   "cell_type": "code",
   "execution_count": 28,
   "id": "acafd8bb-5d10-42ae-bce7-20c781b306aa",
   "metadata": {},
   "outputs": [
    {
     "data": {
      "text/plain": [
       "unittest.case.TestCase"
      ]
     },
     "execution_count": 28,
     "metadata": {},
     "output_type": "execute_result"
    }
   ],
   "source": [
    "unittest.TestCase"
   ]
  },
  {
   "cell_type": "markdown",
   "id": "6107e54d-5586-4471-a615-59daf2e996e1",
   "metadata": {},
   "source": [
    "# Run Tests to see that everything is working"
   ]
  },
  {
   "cell_type": "code",
   "execution_count": 24,
   "id": "c45efa15-2e25-43dc-99b2-4ab56166acbc",
   "metadata": {},
   "outputs": [
    {
     "name": "stderr",
     "output_type": "stream",
     "text": [
      "..."
     ]
    },
    {
     "name": "stdout",
     "output_type": "stream",
     "text": [
      "/Users/williamgilpin/Documents/courses/phys381c_fall2022/hw1\n",
      "None\n",
      "21:32:53\n"
     ]
    },
    {
     "name": "stderr",
     "output_type": "stream",
     "text": [
      "\n",
      "----------------------------------------------------------------------\n",
      "Ran 3 tests in 0.001s\n",
      "\n",
      "OK\n"
     ]
    },
    {
     "data": {
      "text/plain": [
       "<unittest.main.TestProgram at 0x7f8bd8bfa100>"
      ]
     },
     "execution_count": 24,
     "metadata": {},
     "output_type": "execute_result"
    }
   ],
   "source": [
    "import sys, os, unittest\n",
    "from datetime import datetime\n",
    "\n",
    "class TestPowerMethod(unittest.TestCase):\n",
    "\n",
    "    def test_initialization(self):\n",
    "        method = PowerMethod(max_iter=13)\n",
    "        assert method.max_iter == 13\n",
    "\n",
    "    def test_fitting(self):\n",
    "        assert True\n",
    "\n",
    "    def test_eigspec(self):\n",
    "        np.random.random((5,5))\n",
    "\n",
    "\n",
    "print(print(os.getcwd()))\n",
    "print(datetime.now().strftime(\"%H:%M:%S\"))\n",
    "\n",
    "unittest.main(argv=[''], exit=False)\n",
    "\n"
   ]
  },
  {
   "cell_type": "code",
   "execution_count": null,
   "id": "5f8c3957-096f-49a3-a127-1a040723c598",
   "metadata": {},
   "outputs": [],
   "source": []
  },
  {
   "cell_type": "markdown",
   "id": "044e1a9a-0424-4100-9cd3-4b8bfd9ca62e",
   "metadata": {},
   "source": [
    "# The discrete Fourier transform and the fast Fourier transform"
   ]
  },
  {
   "cell_type": "code",
   "execution_count": null,
   "id": "d46a440c-feb4-4003-99ca-5fece3c4c4b2",
   "metadata": {},
   "outputs": [],
   "source": []
  },
  {
   "cell_type": "code",
   "execution_count": null,
   "id": "32a11bb3-27bc-4150-81ba-ce76bd730521",
   "metadata": {},
   "outputs": [],
   "source": []
  },
  {
   "cell_type": "code",
   "execution_count": null,
   "id": "aa027f6a-5ecd-4a3f-9a4b-7d5ae7cc0345",
   "metadata": {},
   "outputs": [],
   "source": []
  },
  {
   "cell_type": "code",
   "execution_count": null,
   "id": "169637b0-6a6e-4e14-852a-d6115f698300",
   "metadata": {},
   "outputs": [],
   "source": []
  },
  {
   "cell_type": "code",
   "execution_count": null,
   "id": "5f46db54-5334-479e-9eb1-1ebb5d07ba51",
   "metadata": {},
   "outputs": [],
   "source": [
    "## We are going to do something super challenging: we are going to implement a random forest\n",
    "## from scratch. "
   ]
  }
 ],
 "metadata": {
  "kernelspec": {
   "display_name": "Python 3 (ipykernel)",
   "language": "python",
   "name": "python3"
  },
  "language_info": {
   "codemirror_mode": {
    "name": "ipython",
    "version": 3
   },
   "file_extension": ".py",
   "mimetype": "text/x-python",
   "name": "python",
   "nbconvert_exporter": "python",
   "pygments_lexer": "ipython3",
   "version": "3.8.11"
  }
 },
 "nbformat": 4,
 "nbformat_minor": 5
}
